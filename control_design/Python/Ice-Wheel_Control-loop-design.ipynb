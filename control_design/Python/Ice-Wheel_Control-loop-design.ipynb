{
 "cells": [
  {
   "cell_type": "code",
   "execution_count": 1,
   "id": "df1ed063",
   "metadata": {},
   "outputs": [],
   "source": [
    "import control as ct\n",
    "import numpy as np"
   ]
  },
  {
   "cell_type": "markdown",
   "id": "de49ea1e",
   "metadata": {},
   "source": [
    "## Dynamic system\n",
    "For now the system described in [[1]](https://www.researchgate.net/publication/313953201_PENS-wheel_one-wheeled_self_balancing_vehicle_balancing_control_using_PID_controller) is used for modelling the ice-wheel.\n",
    "<p><img src=\"https://www.researchgate.net/profile/Eko-Binugroho/publication/313953201/figure/fig1/AS:570207736872961@1512959526621/Modeling-based-on-an-inverted-pendulum-principle_W640.jpg\" alt=\"Alt Text\" title=\"Fig. 1. Modeling based on an inverted pendulum principle\"></p>\n",
    "\n",
    "### Parameters\n",
    "> Different index letters:<br>\n",
    ">- **r** instead of **m** for rider<br>\n",
    ">- **t** instead of **bt** for total vehicle\n",
    ">- **w** for  wheel\n",
    ">- **c** for chassis\n",
    ">- for other changes old name in paranthesis\n",
    "\n",
    "#### Wheel / Motor\n",
    "$m_{w}$ : Mass of the wheel<br>\n",
    "$r_{w}$ : Wheel radius ($r_{bt}$)<br>\n",
    "$x_{w}$ : Horizontal position of the wheel<br>\n",
    "$J_{w}$ : Inertia moment of the wheel<br>\n",
    "$\\tau$ : Motor torque<br>\n",
    "\n",
    "#### Chassis\n",
    "$m_{c}$ : Mass of chassis<br>\n",
    "$l_{c}$ : COG of chassis<br>\n",
    "\n",
    "#### Rider\n",
    "$m_{r}$ : Average rider's mass<br>\n",
    "$x_{r}$ : Horizontal position of the rider’s body ($x_{bt}$)<br>\n",
    "$y_{r}$ : Vertical position of rider’s body ($y_{bt}$)<br>\n",
    "$J_{r}$ : Inertia moment of the rider<br>\n",
    "$h_{r}$ : Average rider's height<br>\n",
    "$l_{r}$ : COG of rider\n",
    "$d_{r}$ : Width of rider from the side\n",
    "\n",
    "#### Vehicle\n",
    "$\\alpha_{1}$ : Angle between wheel axis and vehicle<br>\n",
    "$\\alpha_{2}$ : Angle between vehicle and vertical axis<br>\n",
    "\n",
    "$m_{t}$ : Total vehicle weight<br>\n",
    "$l_{t}$ : Distance between the wheel axis to the center of mass of the vehicle<br>\n",
    "\n",
    "$g$ : Earth's gravitational acceleration<br>"
   ]
  },
  {
   "cell_type": "code",
   "execution_count": 2,
   "id": "95d0e2a4",
   "metadata": {},
   "outputs": [
    {
     "name": "stdout",
     "output_type": "stream",
     "text": [
      "Center of gravity distance from wheel axis: 0.825 m.\n",
      "Total inertial moment of vehicle: 15.814 kgm².\n"
     ]
    }
   ],
   "source": [
    "# ice-wheel\n",
    "m_w = 7.2 # kg\n",
    "r_w = 0.127 # m\n",
    "J_w = 1/2*m_w*r_w**2\n",
    "\n",
    "# chassis\n",
    "m_batteries = 28*67e-3 + 0.2 # kg (cells + bms?)\n",
    "m_mot_contr = 0.5 # kg\n",
    "m_c = 3 + m_batteries + m_mot_contr # kg\n",
    "l_c = 0.02 # m -> COG of chassis is assumed to be in the center\n",
    "h_base = 0.1\n",
    "w_base = 0.75\n",
    "\n",
    "# rider\n",
    "m_r = 65 # kg\n",
    "h_r = 1.7 # m\n",
    "d_r = 0.2 # m\n",
    "l_r_ = h_r * 0.55 # approximation of COG of human\n",
    "l_r = l_r_ + h_base/2 # COG of rider from axel\n",
    "\n",
    "g = 3.81 # m/s^2\n",
    "\n",
    "# total\n",
    "m_t = m_w + m_c + m_r # kg\n",
    "l_t = (l_r*m_r + l_c*m_c) / m_t # m\n",
    "J_t = 1/12*m_r*(h_r**2+d_r**2) + 1/2*m_c*l_c**2 - J_w\n",
    "\n",
    "print(f'Center of gravity distance from wheel axis: {l_t:.3f} m.')\n",
    "print(f'Total inertial moment of vehicle: {J_t:.3f} kgm\\u00b2.')"
   ]
  },
  {
   "cell_type": "markdown",
   "id": "aee6e473",
   "metadata": {
    "tags": []
   },
   "source": [
    "### Differential equations\n",
    "In [[1]](https://www.researchgate.net/publication/313953201_PENS-wheel_one-wheeled_self_balancing_vehicle_balancing_control_using_PID_controller) a simplified lagrange equation is used which neglects any friction forces.\n",
    "\n",
    "#### Langrange\n",
    "$q_r$ : coordinate angle on robot\n",
    "\n",
    "(1) $\\frac{d}{dt}\\left(\\frac{dE}{d\\dot{q_r}}\\right)-\\frac{dE}{dq_r}+\\frac{dU}{dq_r}=\\tau_r$\n",
    "\n",
    "#### Kinetic energy of rider and wheel (translation & rotation)\n",
    "\n",
    "(2) $E=\\frac{1}{2}(m_{t}v^2+l^2_{t}\\dot{\\alpha^2_{2}}+m_{t}vl_{t} cos(\\alpha_{2}\\dot{\\alpha_{2}}) + \\frac{1}{2}J_t\\dot{\\alpha^2_2}+\\frac{1}{2}m_wv^2+\\frac{1}{2}J_w\\frac{v^2}{r^2_w}$\n",
    "#### Potential energy\n",
    "(3) $U=m_tgl_tcos(\\alpha_2)$\n",
    "#### Linearized equations\n",
    "With (2) and (3) in (1) and the assumption that only one equilibrium, where the vehicle stands balanced, exits ($\\alpha_2=0$ ; $sin(\\alpha_2)\\approx0$, $cos(\\alpha_2)\\approx1$), equations (4) and (5) can be drived.<br>\n",
    "\n",
    "(4) $\\ddot{x}=\\left[-\\frac{(m_tl_t)^2g}{den}\\right]\\alpha_2+\\left[-\\frac{m_tl_t}{den}\\right]\\tau$\n",
    "\n",
    "(5) $\\ddot{\\alpha}_2=\\left[\\frac{\\left(m_t+m_w+\\frac{J_w}{r^2_w}\\right)m_tgl_t}{den}\\right]\\alpha_2+\\left[\\frac{m_t+m_w+\\frac{J_w}{r^2_w}}{den}\\right]\\tau$\n",
    "\n",
    "$den=\\left(m_t+m_w+\\frac{J_w}{r^2_w}\\right)\\left(m_tl^2_t+J_t\\right)-\\left(m_tl_t\\right)^2$\n",
    "\n",
    "### State space model\n",
    "<p><img src=\"https://upload.wikimedia.org/wikipedia/commons/thumb/d/dc/Typical_State_Space_model_with_feedback.svg/350px-Typical_State_Space_model_with_feedback.svg.png\" alt=\"Alt Text\" title=\"State space model with feedback\"></p>\n",
    "$x(t)$ : State vector,&emsp; $y(t)$ : Output vector<br>\n",
    "$A$ : State matrix, &emsp;&emsp;$C$ : Output matrix<br>\n",
    "$B$ : Input matrix,&emsp; &emsp;$D$ : Direct transmission matrix<br>\n",
    "<br>\n",
    "\n",
    "(6) $\\dot{x}(t)=Ax(t)+Bu(t)$\n",
    "\n",
    "(7) $y(t)=Cx(t)+Du(t)$\n",
    "\n",
    "(8) $X = \\left[x\\quad\\alpha_2\\quad\\dot{x}\\quad\\dot{\\alpha}_2\\right]^T$\n",
    "\n",
    "(9) $A = \\left[\\begin{array}{cccc} 0 & 0 & 1 & 0\\\\ 0 & 0 & 0 & 1\\\\ 0 & -\\frac{(m_tl_t)^2g}{den} & 0 & 0 \\\\ 0 & \\frac{\\left(m_t+m_w+\\frac{J_w}{r^2_w}\\right)m_tgl_t}{den} & 0 & 0 \\\\ \\end{array}\\right]$\n",
    "\n",
    "(10) $B = \\left[\\begin{array}{c} 0\\\\ 0\\\\ -\\frac{m_tl_t}{den}\\\\  \\frac{m_t+m_w+\\frac{J_w}{r^2_w}}{den}\\\\ \\end{array}\\right]$\n",
    "\n",
    "(11) $C = \\left[\\begin{array}{cccc} 1 & 0 & 0 & 0\\\\ 0 & 1 & 0 & 0\\\\ \\end{array}\\right]$\n",
    "\n",
    "(12) $D = \\left[\\begin{array}{c} 0 \\\\ 0\\\\ \\end{array}\\right]$"
   ]
  },
  {
   "cell_type": "code",
   "execution_count": 3,
   "id": "ae56435d",
   "metadata": {},
   "outputs": [],
   "source": [
    "import matplotlib.pyplot as plt\n",
    "import control.matlab as mat\n",
    "\n",
    "def bode(sys, y=['y1', 'y2'], omega=np.logspace(0, 5, 100)):\n",
    "    mag, phase, _ = sys.frequency_response(omega, squeeze=True)\n",
    "    \n",
    "    fig ,axs = plt.subplots(2, 1, figsize=(12, 8))\n",
    "    \n",
    "    if len(y) == 1:\n",
    "        axs[0].plot(omega, mag)\n",
    "        axs[1].plot(omega, phase/np.pi*180)\n",
    "    else:\n",
    "        for i, _ in enumerate(y):\n",
    "            axs[0].plot(omega, mag[i])\n",
    "            axs[1].plot(omega, phase[i]/np.pi*180)\n",
    "\n",
    "    axs[0].legend(y)    \n",
    "    axs[0].set_xscale('log')\n",
    "    axs[0].set_yscale('log')\n",
    "    axs[0].set_ylabel('$A$')\n",
    "    axs[0].grid(True)\n",
    "\n",
    "    axs[1].legend(y)\n",
    "    axs[1].set_xscale('log')\n",
    "    axs[1].set_ylabel('$\\phi$ [°]')\n",
    "    axs[1].set_xlabel('$\\omega$ [rad/s]')\n",
    "    axs[1].grid(True)\n",
    "    \n",
    "    fig.suptitle('Frequency response')\n",
    "    fig.tight_layout()\n"
   ]
  },
  {
   "cell_type": "code",
   "execution_count": 4,
   "id": "8780ad60",
   "metadata": {},
   "outputs": [
    {
     "data": {
      "text/latex": [
       "\\[\n",
       "\\left(\\begin{array}{rllrllrllrll|rll}\n",
       "0\\phantom{.}&\\hspace{-1em}&\\hspace{-1em}\\phantom{\\cdot}&0\\phantom{.}&\\hspace{-1em}&\\hspace{-1em}\\phantom{\\cdot}&1\\phantom{.}&\\hspace{-1em}&\\hspace{-1em}\\phantom{\\cdot}&0\\phantom{.}&\\hspace{-1em}&\\hspace{-1em}\\phantom{\\cdot}&0\\phantom{.}&\\hspace{-1em}&\\hspace{-1em}\\phantom{\\cdot}\\\\\n",
       "0\\phantom{.}&\\hspace{-1em}&\\hspace{-1em}\\phantom{\\cdot}&0\\phantom{.}&\\hspace{-1em}&\\hspace{-1em}\\phantom{\\cdot}&0\\phantom{.}&\\hspace{-1em}&\\hspace{-1em}\\phantom{\\cdot}&1\\phantom{.}&\\hspace{-1em}&\\hspace{-1em}\\phantom{\\cdot}&0\\phantom{.}&\\hspace{-1em}&\\hspace{-1em}\\phantom{\\cdot}\\\\\n",
       "0\\phantom{.}&\\hspace{-1em}&\\hspace{-1em}\\phantom{\\cdot}&-7.&\\hspace{-1em}95&\\hspace{-1em}\\phantom{\\cdot}&0\\phantom{.}&\\hspace{-1em}&\\hspace{-1em}\\phantom{\\cdot}&0\\phantom{.}&\\hspace{-1em}&\\hspace{-1em}\\phantom{\\cdot}&-0.&\\hspace{-1em}0325&\\hspace{-1em}\\phantom{\\cdot}\\\\\n",
       "0\\phantom{.}&\\hspace{-1em}&\\hspace{-1em}\\phantom{\\cdot}&11\\phantom{.}&\\hspace{-1em}&\\hspace{-1em}\\phantom{\\cdot}&0\\phantom{.}&\\hspace{-1em}&\\hspace{-1em}\\phantom{\\cdot}&0\\phantom{.}&\\hspace{-1em}&\\hspace{-1em}\\phantom{\\cdot}&0.&\\hspace{-1em}0449&\\hspace{-1em}\\phantom{\\cdot}\\\\\n",
       "\\hline\n",
       "1\\phantom{.}&\\hspace{-1em}&\\hspace{-1em}\\phantom{\\cdot}&0\\phantom{.}&\\hspace{-1em}&\\hspace{-1em}\\phantom{\\cdot}&0\\phantom{.}&\\hspace{-1em}&\\hspace{-1em}\\phantom{\\cdot}&0\\phantom{.}&\\hspace{-1em}&\\hspace{-1em}\\phantom{\\cdot}&0\\phantom{.}&\\hspace{-1em}&\\hspace{-1em}\\phantom{\\cdot}\\\\\n",
       "0\\phantom{.}&\\hspace{-1em}&\\hspace{-1em}\\phantom{\\cdot}&1\\phantom{.}&\\hspace{-1em}&\\hspace{-1em}\\phantom{\\cdot}&0\\phantom{.}&\\hspace{-1em}&\\hspace{-1em}\\phantom{\\cdot}&0\\phantom{.}&\\hspace{-1em}&\\hspace{-1em}\\phantom{\\cdot}&0\\phantom{.}&\\hspace{-1em}&\\hspace{-1em}\\phantom{\\cdot}\\\\\n",
       "\\end{array}\\right)\n",
       "\\]"
      ],
      "text/plain": [
       "StateSpace(array([[ 0.       ,  0.       ,  1.       ,  0.       ],\n",
       "       [ 0.       ,  0.       ,  0.       ,  1.       ],\n",
       "       [ 0.       , -7.9477449,  0.       ,  0.       ],\n",
       "       [ 0.       , 10.9762652,  0.       ,  0.       ]]), array([[ 0.        ],\n",
       "       [ 0.        ],\n",
       "       [-0.03252472],\n",
       "       [ 0.04491839]]), array([[1., 0., 0., 0.],\n",
       "       [0., 1., 0., 0.]]), array([[0.],\n",
       "       [0.]]))"
      ]
     },
     "metadata": {},
     "output_type": "display_data"
    }
   ],
   "source": [
    "# State space model\n",
    "den = (m_t + m_w + J_w/r_w**2)*(m_t*l_t**2 + J_t) - (m_t*l_t)**2 ###??? Why add the m_w to m_t ??\n",
    "\n",
    "# State matrix values\n",
    "A_32 = -((m_t*l_t)**2*g)/den\n",
    "A_42 = (m_t + m_w + J_w/r_w**2)*m_t*g*l_t/den\n",
    "A = [[0, 0, 1, 0],\n",
    "     [0, 0, 0, 1],\n",
    "     [0, A_32, 0, 0],\n",
    "     [0, A_42, 0, 0]]\n",
    "\n",
    "\n",
    "# Input matrix\n",
    "B_3 = -m_t*l_t/den\n",
    "B_4 = (m_t + m_w + J_w/r_w**2)/den\n",
    "B = [[0], [0], [B_3], [B_4]]\n",
    "\n",
    "# Output matrix\n",
    "C = [[1, 0, 0, 0],\n",
    "     [0, 1, 0, 0]]\n",
    "\n",
    "# Direct transmission matrix\n",
    "D = [[0], [0]]\n",
    "\n",
    "H = ct.StateSpace(A, B, C, D)\n",
    "display(H)"
   ]
  },
  {
   "cell_type": "code",
   "execution_count": 5,
   "id": "78d9b1a0",
   "metadata": {},
   "outputs": [
    {
     "name": "stdout",
     "output_type": "stream",
     "text": [
      "Ok\n"
     ]
    }
   ],
   "source": [
    "det = np.linalg.det(mat.ctrb(A, B))\n",
    "if det == 0:\n",
    "    print('Not controllable!')\n",
    "else:\n",
    "    print('Ok')"
   ]
  },
  {
   "cell_type": "code",
   "execution_count": 6,
   "id": "b1e88744",
   "metadata": {},
   "outputs": [
    {
     "ename": "ControlMIMONotImplemented",
     "evalue": "Not implemented for MIMO systems without slycot.",
     "output_type": "error",
     "traceback": [
      "\u001b[1;31m---------------------------------------------------------------------------\u001b[0m",
      "\u001b[1;31mModuleNotFoundError\u001b[0m                       Traceback (most recent call last)",
      "File \u001b[1;32m~\\anaconda3\\envs\\ice-wheel\\lib\\site-packages\\control\\xferfcn.py:1343\u001b[0m, in \u001b[0;36m_convert_to_transfer_function\u001b[1;34m(sys, **kw)\u001b[0m\n\u001b[0;32m   1342\u001b[0m \u001b[38;5;28;01mtry\u001b[39;00m:\n\u001b[1;32m-> 1343\u001b[0m     \u001b[38;5;28;01mfrom\u001b[39;00m \u001b[38;5;21;01mslycot\u001b[39;00m \u001b[38;5;28;01mimport\u001b[39;00m tb04ad\n\u001b[0;32m   1344\u001b[0m     \u001b[38;5;28;01mif\u001b[39;00m \u001b[38;5;28mlen\u001b[39m(kw):\n",
      "\u001b[1;31mModuleNotFoundError\u001b[0m: No module named 'slycot'",
      "\nDuring handling of the above exception, another exception occurred:\n",
      "\u001b[1;31mControlMIMONotImplemented\u001b[0m                 Traceback (most recent call last)",
      "Input \u001b[1;32mIn [6]\u001b[0m, in \u001b[0;36m<cell line: 2>\u001b[1;34m()\u001b[0m\n\u001b[0;32m      1\u001b[0m \u001b[38;5;66;03m# transfer funcs\u001b[39;00m\n\u001b[1;32m----> 2\u001b[0m G \u001b[38;5;241m=\u001b[39m \u001b[43mmat\u001b[49m\u001b[38;5;241;43m.\u001b[39;49m\u001b[43mss2tf\u001b[49m\u001b[43m(\u001b[49m\u001b[43mH\u001b[49m\u001b[43m)\u001b[49m\n\u001b[0;32m      4\u001b[0m \u001b[38;5;66;03m# to separate transfer functions\u001b[39;00m\n\u001b[0;32m      5\u001b[0m G_x \u001b[38;5;241m=\u001b[39m G\u001b[38;5;241m.\u001b[39mreturnScipySignalLTI()[\u001b[38;5;241m0\u001b[39m][\u001b[38;5;241m0\u001b[39m]\n",
      "File \u001b[1;32m~\\anaconda3\\envs\\ice-wheel\\lib\\site-packages\\control\\xferfcn.py:1589\u001b[0m, in \u001b[0;36mss2tf\u001b[1;34m(*args, **kwargs)\u001b[0m\n\u001b[0;32m   1587\u001b[0m sys \u001b[38;5;241m=\u001b[39m args[\u001b[38;5;241m0\u001b[39m]\n\u001b[0;32m   1588\u001b[0m \u001b[38;5;28;01mif\u001b[39;00m \u001b[38;5;28misinstance\u001b[39m(sys, StateSpace):\n\u001b[1;32m-> 1589\u001b[0m     \u001b[38;5;28;01mreturn\u001b[39;00m \u001b[43m_convert_to_transfer_function\u001b[49m\u001b[43m(\u001b[49m\u001b[43msys\u001b[49m\u001b[43m)\u001b[49m\n\u001b[0;32m   1590\u001b[0m \u001b[38;5;28;01melse\u001b[39;00m:\n\u001b[0;32m   1591\u001b[0m     \u001b[38;5;28;01mraise\u001b[39;00m \u001b[38;5;167;01mTypeError\u001b[39;00m(\n\u001b[0;32m   1592\u001b[0m         \u001b[38;5;124m\"\u001b[39m\u001b[38;5;124mss2tf(sys): sys must be a StateSpace object.  It is \u001b[39m\u001b[38;5;132;01m%s\u001b[39;00m\u001b[38;5;124m.\u001b[39m\u001b[38;5;124m\"\u001b[39m\n\u001b[0;32m   1593\u001b[0m         \u001b[38;5;241m%\u001b[39m \u001b[38;5;28mtype\u001b[39m(sys))\n",
      "File \u001b[1;32m~\\anaconda3\\envs\\ice-wheel\\lib\\site-packages\\control\\xferfcn.py:1371\u001b[0m, in \u001b[0;36m_convert_to_transfer_function\u001b[1;34m(sys, **kw)\u001b[0m\n\u001b[0;32m   1368\u001b[0m \u001b[38;5;28;01mexcept\u001b[39;00m \u001b[38;5;167;01mImportError\u001b[39;00m:\n\u001b[0;32m   1369\u001b[0m     \u001b[38;5;66;03m# If slycot is not available, use signal.lti (SISO only)\u001b[39;00m\n\u001b[0;32m   1370\u001b[0m     \u001b[38;5;28;01mif\u001b[39;00m sys\u001b[38;5;241m.\u001b[39mninputs \u001b[38;5;241m!=\u001b[39m \u001b[38;5;241m1\u001b[39m \u001b[38;5;129;01mor\u001b[39;00m sys\u001b[38;5;241m.\u001b[39mnoutputs \u001b[38;5;241m!=\u001b[39m \u001b[38;5;241m1\u001b[39m:\n\u001b[1;32m-> 1371\u001b[0m         \u001b[38;5;28;01mraise\u001b[39;00m ControlMIMONotImplemented(\u001b[38;5;124m\"\u001b[39m\u001b[38;5;124mNot implemented for \u001b[39m\u001b[38;5;124m\"\u001b[39m \u001b[38;5;241m+\u001b[39m\n\u001b[0;32m   1372\u001b[0m             \u001b[38;5;124m\"\u001b[39m\u001b[38;5;124mMIMO systems without slycot.\u001b[39m\u001b[38;5;124m\"\u001b[39m)\n\u001b[0;32m   1374\u001b[0m     \u001b[38;5;66;03m# Do the conversion using sp.signal.ss2tf\u001b[39;00m\n\u001b[0;32m   1375\u001b[0m     \u001b[38;5;66;03m# Note that this returns a 2D array for the numerator\u001b[39;00m\n\u001b[0;32m   1376\u001b[0m     num, den \u001b[38;5;241m=\u001b[39m sp\u001b[38;5;241m.\u001b[39msignal\u001b[38;5;241m.\u001b[39mss2tf(sys\u001b[38;5;241m.\u001b[39mA, sys\u001b[38;5;241m.\u001b[39mB, sys\u001b[38;5;241m.\u001b[39mC, sys\u001b[38;5;241m.\u001b[39mD)\n",
      "\u001b[1;31mControlMIMONotImplemented\u001b[0m: Not implemented for MIMO systems without slycot."
     ]
    }
   ],
   "source": [
    "# transfer funcs\n",
    "G = mat.ss2tf(H)\n",
    "\n",
    "# to separate transfer functions\n",
    "G_x = G.returnScipySignalLTI()[0][0]\n",
    "G_x = ct.TransferFunction(G_x.num, G_x.den)\n",
    "\n",
    "G_alpha_2 = G.returnScipySignalLTI()[1][0]\n",
    "G_alpha_2 = ct.TransferFunction(G_alpha_2.num, G_alpha_2.den)"
   ]
  },
  {
   "cell_type": "code",
   "execution_count": null,
   "id": "df9e23df",
   "metadata": {},
   "outputs": [],
   "source": [
    "bode(H, y=['x', r'$\\alpha_2$'])"
   ]
  },
  {
   "cell_type": "code",
   "execution_count": null,
   "id": "274932db",
   "metadata": {
    "collapsed": true,
    "jupyter": {
     "outputs_hidden": true
    },
    "tags": []
   },
   "outputs": [],
   "source": []
  },
  {
   "cell_type": "code",
   "execution_count": null,
   "id": "b8862075",
   "metadata": {},
   "outputs": [],
   "source": [
    "t = np.linspace(0, 1, 100)\n",
    "y, t = mat.step(H, T=t, input=0, X0=[0, 0, 0, 0])\n",
    "\n",
    "fig ,axs = plt.subplots(2, 1, figsize=(15, 10))\n",
    "\n",
    "axs[0].plot(t,y.T[0, 0],'-')\n",
    "axs[0].set_ylabel('x [m]')\n",
    "axs[0].set_xlabel('t [s]')\n",
    "axs[0].grid(True)\n",
    "\n",
    "\n",
    "axs[1].plot(t,y.T[0, 1]*180/np.pi,'--')\n",
    "axs[1].set_ylabel('alpha_2 [°]')\n",
    "axs[1].set_xlabel('t [s]')\n",
    "axs[1].grid(True)"
   ]
  },
  {
   "cell_type": "markdown",
   "id": "7ac46c3f",
   "metadata": {},
   "source": [
    "## Motor"
   ]
  },
  {
   "cell_type": "markdown",
   "id": "acfe7613",
   "metadata": {},
   "source": [
    "## PID Controller\n",
    "In the paper they simply use a PID controller to control the wheel.\n",
    "\n",
    "PID settings: $K_p=90$, $K_i=8$, $K_d=6$"
   ]
  },
  {
   "cell_type": "code",
   "execution_count": null,
   "id": "75e1a768",
   "metadata": {},
   "outputs": [],
   "source": [
    "from control import TransferFunction\n",
    "\n",
    "# PID settings from paper \n",
    "K_r = 90 # (K_p)\n",
    "T_0 = 1/8 # (1/K_i)\n",
    "T_d = 6 # (k_d)\n",
    "\n",
    "# T_n = K_p / K_i\n",
    "# T_v = K_d / K_p\n",
    "\n",
    "K_r = 1 # (K_p)\n",
    "T_0 = 1/8 # (1/K_i)\n",
    "T_d = 1\n",
    "\n",
    "s = TransferFunction.s\n",
    "G_pid  = K_r + 1/(s*T_0) + T_d*s#/(1+0.1*T_d*s)\n",
    "G_pid"
   ]
  },
  {
   "cell_type": "code",
   "execution_count": null,
   "id": "35b48c72",
   "metadata": {},
   "outputs": [],
   "source": [
    "# K_d = T_d\n",
    "# w_d = 1/(0.1*T_d)\n",
    "# K_i = 1/T_0\n",
    "# K_p = K_r\n",
    "\n",
    "# w_d = 0.1*K_d\n",
    "# A = [[0, 0],\n",
    "#      [0, -w_d]]\n",
    "# B = [[1], [w_d]]\n",
    "# C = [K_i, K_d]\n",
    "# D = w_d*K_d + K_p\n",
    "\n",
    "# H_pid = ct.StateSpace(A, B, C, D)"
   ]
  },
  {
   "cell_type": "markdown",
   "id": "77471cd6",
   "metadata": {},
   "source": [
    "# PID and System"
   ]
  },
  {
   "cell_type": "code",
   "execution_count": null,
   "id": "2eff01ee",
   "metadata": {},
   "outputs": [],
   "source": [
    "G_pid_x = G_pid*G_x\n",
    "G_pid_alpha_2 = G_pid*G_alpha_2\n",
    "\n",
    "bode(G_pid_x, y=['x',])\n",
    "bode(G_pid_alpha_2, y=[r'$\\alpha_2$'])"
   ]
  },
  {
   "cell_type": "markdown",
   "id": "55201723",
   "metadata": {},
   "source": [
    "### Feedback"
   ]
  },
  {
   "cell_type": "code",
   "execution_count": null,
   "id": "fe6b1699",
   "metadata": {
    "tags": []
   },
   "outputs": [],
   "source": [
    "# G_pid_x_feedback = G_pid_x.feedback()\n",
    "G_pid_alpha_2_feedback = G_pid_alpha_2.feedback()\n",
    "\n",
    "# bode(G_pid_x_feedback, y=['x',])\n",
    "bode(G_pid_alpha_2_feedback, y=[r'$\\alpha_2$'])"
   ]
  },
  {
   "cell_type": "code",
   "execution_count": null,
   "id": "f1c0fadf",
   "metadata": {
    "tags": []
   },
   "outputs": [],
   "source": [
    "import matplotlib.pyplot as plt\n",
    "import dataclasses\n",
    "\n",
    "\n",
    "def draw_world(\n",
    "    fig = None,\n",
    "    ax = None,\n",
    "    x_lim: list = [-2, 2],\n",
    "    y_lim: list = [-0.5, 3],\n",
    "    figsize: tuple = (15, 15),\n",
    "    **kwargs\n",
    "):\n",
    "    if fig is None and ax is None:\n",
    "        fig, ax = plt.subplots(figsize=figsize, **kwargs)\n",
    "    ax.hlines(0, *x_lim ,'k')\n",
    "    ax.vlines(0, *y_lim, linestyles='dashed', colors='k')\n",
    "    ax.plot(0, 0)\n",
    "    \n",
    "    ax.set_xlim(x_lim)\n",
    "    ax.set_ylim(y_lim)\n",
    "    ax.set_aspect('equal')\n",
    "    ax.grid(True)\n",
    "    return fig, ax\n",
    "\n",
    "\n",
    "\n",
    "class IceWheel:\n",
    "    _r_wheel: float\n",
    "    _r_base: float\n",
    "    _w_base: float\n",
    "    _h_base: float\n",
    "    _cog_rider: np.ndarray\n",
    "    _h_rider: float\n",
    "    \n",
    "    _wheel_color: str = 'green'\n",
    "    _base_color: str = 'blue'\n",
    "    _rider_color: str = 'red'\n",
    "    _rider_cog_r: float = 0.05\n",
    "    \n",
    "    _ax = None\n",
    "    \n",
    "    def __init__(\n",
    "        self,\n",
    "        r_wheel: float,\n",
    "        r_base: float,\n",
    "        w_base: float,\n",
    "        h_base: float,\n",
    "        cog_rider: np.ndarray,\n",
    "        h_rider: float,\n",
    "        ax = None\n",
    "    ) -> None:\n",
    "        self._r_wheel = r_wheel\n",
    "        self._r_base = r_base\n",
    "        self._w_base = w_base\n",
    "        self._h_base = h_base\n",
    "        self._cog_rider = cog_rider\n",
    "        self._h_rider = h_rider\n",
    "        self._ax = ax\n",
    "        \n",
    "    def set_ax(self, ax) -> None:\n",
    "        self._ax = ax\n",
    "    \n",
    "    def get_ax(self, ax):\n",
    "        return self._ax\n",
    "        \n",
    "    def draw(self, x: float, alpha_2: float, y: float = 0) -> None:\n",
    "        alpha_transform = np.array([\n",
    "            [np.cos(-alpha_2), -np.sin(-alpha_2)],\n",
    "            [np.sin(-alpha_2), np.cos(-alpha_2)]\n",
    "        ])\n",
    "\n",
    "        # wheel\n",
    "        xy_wheel = np.array([x, y+self._r_wheel])\n",
    "        wheel = plt.Circle(xy_wheel, radius=self._r_wheel, color=self._wheel_color)\n",
    "        self._ax.add_patch(wheel)\n",
    "        self._ax.plot(*xy_wheel, 'r+', markersize=20)\n",
    "\n",
    "        # chassis\n",
    "        xy_base = xy_wheel + np.matmul(alpha_transform, np.array([-self._w_base/2, -self._r_base/2]))\n",
    "        base = plt.Rectangle(xy_base, self._w_base, self._h_base, angle=-alpha_2*180/np.pi, color=self._base_color)\n",
    "        self._ax.add_patch(base)\n",
    "\n",
    "        # rider\n",
    "        xy_rider_cog = xy_wheel + np.matmul(alpha_transform, self._cog_rider)\n",
    "        xy_rider_head = xy_wheel + np.matmul(alpha_transform, [0, self._h_rider])\n",
    "\n",
    "        rider_cog = plt.Circle(xy_rider_cog, radius=self._rider_cog_r, color=self._rider_color)\n",
    "        plt.gca().add_patch(rider_cog)\n",
    "        self._ax.plot([xy_wheel[0], xy_rider_head[0]], [xy_wheel[1], xy_rider_head[1]], '--', color=self._rider_color)\n",
    "    \n",
    "    def draw_multiple(self, X: np.ndarray, y: float = 0):\n",
    "        for x, alpha_2 in X:\n",
    "            self.draw(x, alpha_2, y)\n",
    "\n",
    "ice_wheel_settings = dict(\n",
    "    r_wheel=r_w,\n",
    "    r_base=l_c,\n",
    "    w_base=w_base,\n",
    "    h_base=h_base,\n",
    "    cog_rider=np.array([0, l_r]), # from axel\n",
    "    h_rider=h_r\n",
    ")"
   ]
  },
  {
   "cell_type": "markdown",
   "id": "63e72049",
   "metadata": {},
   "source": [
    "## Simulation\n",
    "### System"
   ]
  },
  {
   "cell_type": "code",
   "execution_count": null,
   "id": "549587e4",
   "metadata": {
    "tags": []
   },
   "outputs": [],
   "source": [
    "from matplotlib.animation import FuncAnimation\n",
    "from IPython.display import HTML\n",
    "\n",
    "\n",
    "t_end = 2 # s\n",
    "t_per_second = 30\n",
    "slow_mo = 1\n",
    "n = int(t_end*t_per_second)\n",
    "\n",
    "t = np.linspace(0, t_end, n)\n",
    "y, t = mat.step(H, T=t, input=0, X0=[0, 0, 0, 0])\n",
    "\n",
    "world_settings = dict(\n",
    "    x_lim=[np.round(y.squeeze().T[0].min())-2, np.round(y.squeeze().T[0].max())+2]\n",
    ")\n",
    "    \n",
    "fig, ax = draw_world(**world_settings)\n",
    "wheel = IceWheel(**ice_wheel_settings)\n",
    "wheel.set_ax(ax)\n",
    "\n",
    "def animate(i):\n",
    "    ax.clear()\n",
    "    draw_world(fig, ax, **world_settings)\n",
    "    wheel.draw(*y.squeeze()[i])\n",
    "\n",
    "    \n",
    "ani = FuncAnimation(fig, animate, frames=n , interval=slow_mo*1000/t_per_second, repeat=True)\n",
    "\n",
    "HTML(ani.to_html5_video())\n",
    "\n"
   ]
  },
  {
   "cell_type": "markdown",
   "id": "85e2914d",
   "metadata": {},
   "source": [
    "### PID and System"
   ]
  },
  {
   "cell_type": "code",
   "execution_count": null,
   "id": "169b6473",
   "metadata": {
    "tags": []
   },
   "outputs": [],
   "source": [
    "t_end = 2 # s\n",
    "t_per_second = 30\n",
    "slow_mo = 1\n",
    "n = int(t_end*t_per_second)\n",
    "\n",
    "t = np.linspace(0, t_end, n)\n",
    "y_x, t = mat.step(G_pid_x, T=t, input=0)#, X0=[0, 0, 0, 0])\n",
    "y_alpha_2, t = mat.step(G_pid_alpha_2, T=t, input=0)#, X0=[0, 0, 0, 0])\n",
    "\n",
    "\n",
    "world_settings = dict(\n",
    "    x_lim=[np.round(y.squeeze().T[0].min())-2, np.round(y.squeeze().T[0].max())+2]\n",
    ")\n",
    "    \n",
    "fig, ax = draw_world(**world_settings)\n",
    "wheel = IceWheel(**ice_wheel_settings)\n",
    "wheel.set_ax(ax)\n",
    "\n",
    "def animate(i):\n",
    "    ax.clear()\n",
    "    draw_world(fig, ax, **world_settings)\n",
    "    wheel.draw(y_x[i], y_alpha_2[i])\n",
    "\n",
    "    \n",
    "ani = FuncAnimation(fig, animate, frames=n , interval=slow_mo*1000/t_per_second, repeat=True)\n",
    "\n",
    "HTML(ani.to_html5_video())"
   ]
  },
  {
   "cell_type": "markdown",
   "id": "f722d490",
   "metadata": {},
   "source": [
    "### PID and System Feedback\n",
    "\n",
    "x not possible to compute, since it had to be reduced to SISO."
   ]
  },
  {
   "cell_type": "code",
   "execution_count": null,
   "id": "9dc585cd",
   "metadata": {
    "tags": []
   },
   "outputs": [],
   "source": [
    "t_end = 2 # s\n",
    "t_per_second = 30\n",
    "slow_mo = 1\n",
    "n = int(t_end*t_per_second)\n",
    "\n",
    "t = np.linspace(0, t_end, n)\n",
    "# y_x, t = mat.step(G_pid_x, T=t, input=0, X0=[0, 0, 0, 0])\n",
    "y_alpha_2, t = mat.step(G_pid_alpha_2_feedback, T=t, input=0)#, X0=[0, 0, 0, 0])\n",
    "\n",
    "\n",
    "world_settings = dict(\n",
    "    x_lim=[np.round(y.squeeze().T[0].min())-2, np.round(y.squeeze().T[0].max())+2]\n",
    ")\n",
    "    \n",
    "fig, ax = draw_world(**world_settings)\n",
    "wheel = IceWheel(**ice_wheel_settings)\n",
    "wheel.set_ax(ax)\n",
    "\n",
    "def animate(i):\n",
    "    ax.clear()\n",
    "    draw_world(fig, ax, **world_settings)\n",
    "    wheel.draw(x=0, alpha_2=y_alpha_2[i])\n",
    "\n",
    "    \n",
    "ani = FuncAnimation(fig, animate, frames=n , interval=slow_mo*1000/t_per_second, repeat=True)\n",
    "\n",
    "HTML(ani.to_html5_video())"
   ]
  }
 ],
 "metadata": {
  "kernelspec": {
   "display_name": "Python 3 (ipykernel)",
   "language": "python",
   "name": "python3"
  },
  "language_info": {
   "codemirror_mode": {
    "name": "ipython",
    "version": 3
   },
   "file_extension": ".py",
   "mimetype": "text/x-python",
   "name": "python",
   "nbconvert_exporter": "python",
   "pygments_lexer": "ipython3",
   "version": "3.9.12"
  },
  "toc": {
   "base_numbering": 1,
   "nav_menu": {},
   "number_sections": true,
   "sideBar": true,
   "skip_h1_title": false,
   "title_cell": "Table of Contents",
   "title_sidebar": "Contents",
   "toc_cell": false,
   "toc_position": {},
   "toc_section_display": true,
   "toc_window_display": false
  },
  "varInspector": {
   "cols": {
    "lenName": 16,
    "lenType": 16,
    "lenVar": 40
   },
   "kernels_config": {
    "python": {
     "delete_cmd_postfix": "",
     "delete_cmd_prefix": "del ",
     "library": "var_list.py",
     "varRefreshCmd": "print(var_dic_list())"
    },
    "r": {
     "delete_cmd_postfix": ") ",
     "delete_cmd_prefix": "rm(",
     "library": "var_list.r",
     "varRefreshCmd": "cat(var_dic_list()) "
    }
   },
   "types_to_exclude": [
    "module",
    "function",
    "builtin_function_or_method",
    "instance",
    "_Feature"
   ],
   "window_display": false
  }
 },
 "nbformat": 4,
 "nbformat_minor": 5
}
